{
  "cells": [
    {
      "cell_type": "code",
      "execution_count": 2,
      "metadata": {
        "id": "dkSKfF3szkCF",
        "colab": {
          "base_uri": "https://localhost:8080/"
        },
        "outputId": "00dca79d-97ed-4edc-f7d4-46283e0c280d"
      },
      "outputs": [
        {
          "metadata": {
            "tags": null
          },
          "name": "stdout",
          "output_type": "stream",
          "text": [
            "[=================================================-] 99.9% 251.8/252.1MB downloaded\n"
          ]
        }
      ],
      "source": [
        "import gensim.downloader as api\n",
        "wv_from_bin = api.load(\"glove-wiki-gigaword-200\")"
      ]
    },
    {
      "cell_type": "markdown",
      "metadata": {
        "id": "juRI9id25xP5"
      },
      "source": [
        "### <font color=\"red\"> Using analogies, go from 'hospital' to 'ambulance' </font>"
      ]
    },
    {
      "cell_type": "markdown",
      "metadata": {
        "id": "sCqQv-G-6OpH"
      },
      "source": [
        "#### Hint: King - Man + Woman = Queen"
      ]
    },
    {
      "cell_type": "code",
      "execution_count": 3,
      "metadata": {
        "id": "kx2za4QrzyBW",
        "colab": {
          "base_uri": "https://localhost:8080/"
        },
        "outputId": "5436f212-b02b-4e10-a281-d1f51dae5922"
      },
      "outputs": [
        {
          "output_type": "stream",
          "name": "stdout",
          "text": [
            "[('driver', 0.6071785092353821),\n",
            " ('ambulance', 0.5858197808265686),\n",
            " ('bus', 0.5326183438301086),\n",
            " ('truck', 0.5290945768356323),\n",
            " ('accident', 0.5269635319709778),\n",
            " ('vehicle', 0.5245042443275452),\n",
            " ('hospitals', 0.5109952688217163),\n",
            " ('taxi', 0.5006206035614014),\n",
            " ('injuries', 0.4903818666934967),\n",
            " ('injured', 0.48939451575279236)]\n"
          ]
        }
      ],
      "source": [
        "import pprint\n",
        "pprint.pprint(wv_from_bin.most_similar(positive=['hospital', 'car'], negative=['house']))"
      ]
    },
    {
      "cell_type": "code",
      "source": [
        "pprint.pprint(wv_from_bin.most_similar(positive=['car', 'hospital'], negative=['house']))"
      ],
      "metadata": {
        "colab": {
          "base_uri": "https://localhost:8080/"
        },
        "id": "2hP5vT5NBs6s",
        "outputId": "f024a0d5-e170-43f2-9226-f6d7e7cb44b0"
      },
      "execution_count": 4,
      "outputs": [
        {
          "output_type": "stream",
          "name": "stdout",
          "text": [
            "[('driver', 0.6071785092353821),\n",
            " ('ambulance', 0.5858197808265686),\n",
            " ('bus', 0.5326183438301086),\n",
            " ('truck', 0.5290945768356323),\n",
            " ('accident', 0.5269635319709778),\n",
            " ('vehicle', 0.5245042443275452),\n",
            " ('hospitals', 0.5109952688217163),\n",
            " ('taxi', 0.5006206035614014),\n",
            " ('injuries', 0.4903818666934967),\n",
            " ('injured', 0.48939451575279236)]\n"
          ]
        }
      ]
    },
    {
      "cell_type": "markdown",
      "metadata": {
        "id": "7ukjHwjI6ZbJ"
      },
      "source": [
        "### <font color=\"red\"> Using analogies, find some gender biases learned by model from corpus regarding 'toys'</font>"
      ]
    },
    {
      "cell_type": "markdown",
      "metadata": {
        "id": "mE2NIj8ycz7x"
      },
      "source": [
        "#### Hint: Which toys assigned to girls and which toys assigned to boys?"
      ]
    },
    {
      "cell_type": "code",
      "execution_count": 5,
      "metadata": {
        "id": "spnOqmU34GRA",
        "colab": {
          "base_uri": "https://localhost:8080/"
        },
        "outputId": "755daffb-8d0a-4e64-f3ac-8d9d71c4e57b"
      },
      "outputs": [
        {
          "output_type": "stream",
          "name": "stdout",
          "text": [
            "[('toy', 0.7558258175849915),\n",
            " ('mattel', 0.5451502799987793),\n",
            " ('lego', 0.5196274518966675),\n",
            " ('hasbro', 0.5127165913581848),\n",
            " ('kids', 0.4646091163158417),\n",
            " ('merchandise', 0.4640638828277588),\n",
            " ('dolls', 0.4599638283252716),\n",
            " ('collectibles', 0.4487905204296112),\n",
            " ('furniture', 0.4399421513080597),\n",
            " ('clothing', 0.43762823939323425)]\n"
          ]
        }
      ],
      "source": [
        "pprint.pprint(wv_from_bin.most_similar(positive=['masculine', 'toys'], negative=['feminine']))"
      ]
    },
    {
      "cell_type": "code",
      "source": [
        "pprint.pprint(wv_from_bin.most_similar(positive=['feminine', 'toys'], negative=['masculine']))"
      ],
      "metadata": {
        "colab": {
          "base_uri": "https://localhost:8080/"
        },
        "id": "yA22NwSThJ7i",
        "outputId": "8fec5b51-a427-4514-99cc-9e021b4c95f5"
      },
      "execution_count": 6,
      "outputs": [
        {
          "output_type": "stream",
          "name": "stdout",
          "text": [
            "[('toy', 0.7080947756767273),\n",
            " ('dolls', 0.5841822028160095),\n",
            " ('mattel', 0.5747969746589661),\n",
            " ('accessories', 0.5711314082145691),\n",
            " ('products', 0.5550244450569153),\n",
            " ('clothing', 0.5273836851119995),\n",
            " ('doll', 0.5117411613464355),\n",
            " ('items', 0.5107505917549133),\n",
            " ('merchandise', 0.5088599324226379),\n",
            " ('candy', 0.5048754811286926)]\n"
          ]
        }
      ]
    },
    {
      "cell_type": "markdown",
      "source": [
        "This shows that boys tend to play with logo and girls tend to play with dolls"
      ],
      "metadata": {
        "id": "amDYI3lEEDat"
      }
    },
    {
      "cell_type": "code",
      "source": [],
      "metadata": {
        "id": "e0e3whXqhT8s"
      },
      "execution_count": null,
      "outputs": []
    }
  ],
  "metadata": {
    "colab": {
      "provenance": []
    },
    "kernelspec": {
      "display_name": "Python 3",
      "name": "python3"
    },
    "language_info": {
      "name": "python",
      "version": "3.10.6"
    }
  },
  "nbformat": 4,
  "nbformat_minor": 0
}